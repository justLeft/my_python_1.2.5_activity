{
 "cells": [
  {
   "cell_type": "code",
   "execution_count": null,
   "id": "8eb1c922",
   "metadata": {},
   "outputs": [],
   "source": [
    "# this is my first line of code"
   ]
  },
  {
   "cell_type": "code",
   "execution_count": 1,
   "id": "eb32f896",
   "metadata": {},
   "outputs": [
    {
     "name": "stdout",
     "output_type": "stream",
     "text": [
      "My name is Lefteris\n",
      "The date is 02/06/2022\n"
     ]
    }
   ],
   "source": [
    "print(\"My name is Lefteris\")\n",
    "print(\"The date is 02/06/2022\")"
   ]
  },
  {
   "cell_type": "code",
   "execution_count": null,
   "id": "6f49fa61",
   "metadata": {},
   "outputs": [],
   "source": [
    "# Write a program to analyse real estate data"
   ]
  },
  {
   "cell_type": "code",
   "execution_count": 3,
   "id": "23dd9265",
   "metadata": {},
   "outputs": [
    {
     "name": "stdout",
     "output_type": "stream",
     "text": [
      "45000 23400 67000 34600 12900\n"
     ]
    }
   ],
   "source": [
    "# Property ID and its Sales price\n",
    "\n",
    "a = 45000\n",
    "b = 23400\n",
    "c = 67000\n",
    "d = 34600\n",
    "e = 12900\n",
    "\n",
    "print (a, b, c, d, e)"
   ]
  },
  {
   "cell_type": "code",
   "execution_count": 6,
   "id": "7e465c44",
   "metadata": {},
   "outputs": [
    {
     "name": "stdout",
     "output_type": "stream",
     "text": [
      "182900\n"
     ]
    }
   ],
   "source": [
    "# Total sales December\n",
    "TotalSalesDec = a + b + c + d + e\n",
    "print (TotalSalesDec)"
   ]
  },
  {
   "cell_type": "code",
   "execution_count": 9,
   "id": "a8b03111",
   "metadata": {},
   "outputs": [
    {
     "name": "stdout",
     "output_type": "stream",
     "text": [
      "36580.0\n"
     ]
    }
   ],
   "source": [
    "# Average Sale Price December\n",
    "print (TotalSalesDec/5)"
   ]
  },
  {
   "cell_type": "code",
   "execution_count": 12,
   "id": "82177f1d",
   "metadata": {},
   "outputs": [
    {
     "name": "stdout",
     "output_type": "stream",
     "text": [
      "60500\n"
     ]
    }
   ],
   "source": [
    "# Property C Price \n",
    "print (c - 6500)"
   ]
  },
  {
   "cell_type": "code",
   "execution_count": null,
   "id": "528d54b0",
   "metadata": {},
   "outputs": [],
   "source": []
  }
 ],
 "metadata": {
  "kernelspec": {
   "display_name": "Python 3 (ipykernel)",
   "language": "python",
   "name": "python3"
  },
  "language_info": {
   "codemirror_mode": {
    "name": "ipython",
    "version": 3
   },
   "file_extension": ".py",
   "mimetype": "text/x-python",
   "name": "python",
   "nbconvert_exporter": "python",
   "pygments_lexer": "ipython3",
   "version": "3.9.7"
  }
 },
 "nbformat": 4,
 "nbformat_minor": 5
}
