{
 "cells": [
  {
   "cell_type": "markdown",
   "id": "d75a9832",
   "metadata": {},
   "source": [
    "#### **LSE Data Analytics Online Career Accelerator** \n",
    "#### Course 201: Data Analytics with Python"
   ]
  },
  {
   "cell_type": "markdown",
   "id": "963426a8",
   "metadata": {},
   "source": [
    "## Practical activity: Making a GET request to an API"
   ]
  },
  {
   "cell_type": "markdown",
   "id": "8615e7ee",
   "metadata": {},
   "source": [
    "**This is the solution to the activity.**\n",
    "\n",
    "The story of Bitcoin and other cryptocurrencies has captured investors like few financial stories have. Many finance firms are looking to invest in the crypto market. \n",
    "\n",
    "As a data analyst at a financial institution, your line manager has tasked you with investigating Bitcoin in a little more detail, particularly in terms of future growth of the currency and its use in the United States. \n",
    "\n",
    "To begin exploring Bitcoin and its potential use and growth in the United States, you will use these two public APIs:\n",
    "- The current Bitcoin Price Index (https://api.coindesk.com/v1/bpi/currentprice.json (Links to an external site.))\n",
    "- USA population data (https://datausa.io/api/data?drilldowns=Nation&measures=Population (Links to an external site.))"
   ]
  },
  {
   "cell_type": "markdown",
   "id": "eb962e25",
   "metadata": {},
   "source": [
    "## 1. Import the libraries"
   ]
  },
  {
   "cell_type": "code",
   "execution_count": 2,
   "id": "fde628ad",
   "metadata": {},
   "outputs": [],
   "source": [
    "# Import the necessary libraries.\n",
    "import requests\n",
    "import json\n",
    "import pandas as pd"
   ]
  },
  {
   "cell_type": "markdown",
   "id": "c4a538ea",
   "metadata": {},
   "source": [
    "##  Bitcoin Price Index"
   ]
  },
  {
   "cell_type": "code",
   "execution_count": 3,
   "id": "998dcb48",
   "metadata": {},
   "outputs": [
    {
     "name": "stdout",
     "output_type": "stream",
     "text": [
      "200\n",
      "{'time': {'updated': 'Jul 1, 2022 13:41:00 UTC', 'updatedISO': '2022-07-01T13:41:00+00:00', 'updateduk': 'Jul 1, 2022 at 14:41 BST'}, 'disclaimer': 'This data was produced from the CoinDesk Bitcoin Price Index (USD). Non-USD currency data converted using hourly conversion rate from openexchangerates.org', 'chartName': 'Bitcoin', 'bpi': {'USD': {'code': 'USD', 'symbol': '&#36;', 'rate': '19,320.4298', 'description': 'United States Dollar', 'rate_float': 19320.4298}, 'GBP': {'code': 'GBP', 'symbol': '&pound;', 'rate': '15,941.8276', 'description': 'British Pound Sterling', 'rate_float': 15941.8276}, 'EUR': {'code': 'EUR', 'symbol': '&euro;', 'rate': '18,481.6333', 'description': 'Euro', 'rate_float': 18481.6333}}}\n"
     ]
    }
   ],
   "source": [
    "# Create a requests variable.\n",
    "bitcoin = requests.get('https://api.coindesk.com/v1/bpi/currentprice.json')\n",
    "   \n",
    "# Print the status_code.\n",
    "print(bitcoin.status_code)\n",
    "\n",
    "# Print the JSON response.\n",
    "print(bitcoin.json())"
   ]
  },
  {
   "cell_type": "code",
   "execution_count": 4,
   "id": "57b4c445",
   "metadata": {},
   "outputs": [
    {
     "data": {
      "text/plain": [
       "{'Content-Type': 'application/javascript', 'Content-Length': '677', 'Connection': 'keep-alive', 'Access-Control-Allow-Origin': '*', 'Cache-Control': 'max-age=15', 'Date': 'Fri, 01 Jul 2022 13:41:38 GMT', 'Expires': 'Fri, 01 Jul 2022 13:42:07 UTC', 'Server': 'nginx/1.18.0', 'X-Powered-By': 'Fat-Free Framework', 'X-Cache': 'Hit from cloudfront', 'Via': '1.1 bb8a874d65e0b595aaa3d9aa3f930102.cloudfront.net (CloudFront)', 'X-Amz-Cf-Pop': 'ATH50-C1', 'X-Amz-Cf-Id': '_NewdA3HCTq16h8ypxEM9GcO9Y0C7CnH2VoWqnPIU28_jI-Zclv1FA==', 'Age': '12'}"
      ]
     },
     "execution_count": 4,
     "metadata": {},
     "output_type": "execute_result"
    }
   ],
   "source": [
    "# Retrieve the headers.\n",
    "bitcoin.headers"
   ]
  },
  {
   "cell_type": "code",
   "execution_count": 5,
   "id": "a15bee6e",
   "metadata": {},
   "outputs": [
    {
     "name": "stdout",
     "output_type": "stream",
     "text": [
      "<class 'dict'>\n"
     ]
    },
    {
     "data": {
      "text/plain": [
       "{'time': {'updated': 'Jul 1, 2022 13:41:00 UTC',\n",
       "  'updatedISO': '2022-07-01T13:41:00+00:00',\n",
       "  'updateduk': 'Jul 1, 2022 at 14:41 BST'},\n",
       " 'disclaimer': 'This data was produced from the CoinDesk Bitcoin Price Index (USD). Non-USD currency data converted using hourly conversion rate from openexchangerates.org',\n",
       " 'chartName': 'Bitcoin',\n",
       " 'bpi': {'USD': {'code': 'USD',\n",
       "   'symbol': '&#36;',\n",
       "   'rate': '19,320.4298',\n",
       "   'description': 'United States Dollar',\n",
       "   'rate_float': 19320.4298},\n",
       "  'GBP': {'code': 'GBP',\n",
       "   'symbol': '&pound;',\n",
       "   'rate': '15,941.8276',\n",
       "   'description': 'British Pound Sterling',\n",
       "   'rate_float': 15941.8276},\n",
       "  'EUR': {'code': 'EUR',\n",
       "   'symbol': '&euro;',\n",
       "   'rate': '18,481.6333',\n",
       "   'description': 'Euro',\n",
       "   'rate_float': 18481.6333}}}"
      ]
     },
     "execution_count": 5,
     "metadata": {},
     "output_type": "execute_result"
    }
   ],
   "source": [
    "# Parse JSON data with loads().\n",
    "bitcoin_content = json.loads(bitcoin.text)\n",
    "\n",
    "# View the content.\n",
    "print(type(bitcoin_content))\n",
    "bitcoin_content"
   ]
  },
  {
   "cell_type": "code",
   "execution_count": 6,
   "id": "5714cb63",
   "metadata": {},
   "outputs": [
    {
     "name": "stdout",
     "output_type": "stream",
     "text": [
      "<class 'dict'>\n",
      "{'time': {'updated': 'Jul 1, 2022 13:41:00 UTC', 'updatedISO': '2022-07-01T13:41:00+00:00', 'updateduk': 'Jul 1, 2022 at 14:41 BST'}, 'disclaimer': 'This data was produced from the CoinDesk Bitcoin Price Index (USD). Non-USD currency data converted using hourly conversion rate from openexchangerates.org', 'chartName': 'Bitcoin', 'bpi': {'USD': {'code': 'USD', 'symbol': '&#36;', 'rate': '19,320.4298', 'description': 'United States Dollar', 'rate_float': 19320.4298}, 'GBP': {'code': 'GBP', 'symbol': '&pound;', 'rate': '15,941.8276', 'description': 'British Pound Sterling', 'rate_float': 15941.8276}, 'EUR': {'code': 'EUR', 'symbol': '&euro;', 'rate': '18,481.6333', 'description': 'Euro', 'rate_float': 18481.6333}}}\n"
     ]
    }
   ],
   "source": [
    "# Try this code snippet and compare the output.\n",
    "# View the content.\n",
    "print(type(bitcoin_content))\n",
    "print(bitcoin_content)"
   ]
  },
  {
   "cell_type": "code",
   "execution_count": 7,
   "id": "52c80f7a",
   "metadata": {},
   "outputs": [
    {
     "name": "stdout",
     "output_type": "stream",
     "text": [
      "{\n",
      "    \"time\": {\n",
      "        \"updated\": \"Jul 1, 2022 13:41:00 UTC\",\n",
      "        \"updatedISO\": \"2022-07-01T13:41:00+00:00\",\n",
      "        \"updateduk\": \"Jul 1, 2022 at 14:41 BST\"\n",
      "    },\n",
      "    \"disclaimer\": \"This data was produced from the CoinDesk Bitcoin Price Index (USD). Non-USD currency data converted using hourly conversion rate from openexchangerates.org\",\n",
      "    \"chartName\": \"Bitcoin\",\n",
      "    \"bpi\": {\n",
      "        \"USD\": {\n",
      "            \"code\": \"USD\",\n",
      "            \"symbol\": \"&#36;\",\n",
      "            \"rate\": \"19,320.4298\",\n",
      "            \"description\": \"United States Dollar\",\n",
      "            \"rate_float\": 19320.4298\n",
      "        },\n",
      "        \"GBP\": {\n",
      "            \"code\": \"GBP\",\n",
      "            \"symbol\": \"&pound;\",\n",
      "            \"rate\": \"15,941.8276\",\n",
      "            \"description\": \"British Pound Sterling\",\n",
      "            \"rate_float\": 15941.8276\n",
      "        },\n",
      "        \"EUR\": {\n",
      "            \"code\": \"EUR\",\n",
      "            \"symbol\": \"&euro;\",\n",
      "            \"rate\": \"18,481.6333\",\n",
      "            \"description\": \"Euro\",\n",
      "            \"rate_float\": 18481.6333\n",
      "        }\n",
      "    }\n",
      "}\n"
     ]
    }
   ],
   "source": [
    "# Formatting JSON.\n",
    "print(json.dumps(bitcoin_content, indent=4))"
   ]
  },
  {
   "cell_type": "code",
   "execution_count": 8,
   "id": "d41a541f",
   "metadata": {},
   "outputs": [
    {
     "data": {
      "text/html": [
       "<div>\n",
       "<style scoped>\n",
       "    .dataframe tbody tr th:only-of-type {\n",
       "        vertical-align: middle;\n",
       "    }\n",
       "\n",
       "    .dataframe tbody tr th {\n",
       "        vertical-align: top;\n",
       "    }\n",
       "\n",
       "    .dataframe thead th {\n",
       "        text-align: right;\n",
       "    }\n",
       "</style>\n",
       "<table border=\"1\" class=\"dataframe\">\n",
       "  <thead>\n",
       "    <tr style=\"text-align: right;\">\n",
       "      <th></th>\n",
       "      <th>time</th>\n",
       "      <th>disclaimer</th>\n",
       "      <th>chartName</th>\n",
       "      <th>bpi</th>\n",
       "    </tr>\n",
       "  </thead>\n",
       "  <tbody>\n",
       "    <tr>\n",
       "      <th>updated</th>\n",
       "      <td>Jul 1, 2022 13:41:00 UTC</td>\n",
       "      <td>This data was produced from the CoinDesk Bitco...</td>\n",
       "      <td>Bitcoin</td>\n",
       "      <td>NaN</td>\n",
       "    </tr>\n",
       "    <tr>\n",
       "      <th>updatedISO</th>\n",
       "      <td>2022-07-01T13:41:00+00:00</td>\n",
       "      <td>This data was produced from the CoinDesk Bitco...</td>\n",
       "      <td>Bitcoin</td>\n",
       "      <td>NaN</td>\n",
       "    </tr>\n",
       "    <tr>\n",
       "      <th>updateduk</th>\n",
       "      <td>Jul 1, 2022 at 14:41 BST</td>\n",
       "      <td>This data was produced from the CoinDesk Bitco...</td>\n",
       "      <td>Bitcoin</td>\n",
       "      <td>NaN</td>\n",
       "    </tr>\n",
       "    <tr>\n",
       "      <th>USD</th>\n",
       "      <td>NaN</td>\n",
       "      <td>This data was produced from the CoinDesk Bitco...</td>\n",
       "      <td>Bitcoin</td>\n",
       "      <td>{'code': 'USD', 'symbol': '&amp;#36;', 'rate': '19...</td>\n",
       "    </tr>\n",
       "    <tr>\n",
       "      <th>GBP</th>\n",
       "      <td>NaN</td>\n",
       "      <td>This data was produced from the CoinDesk Bitco...</td>\n",
       "      <td>Bitcoin</td>\n",
       "      <td>{'code': 'GBP', 'symbol': '&amp;pound;', 'rate': '...</td>\n",
       "    </tr>\n",
       "  </tbody>\n",
       "</table>\n",
       "</div>"
      ],
      "text/plain": [
       "                                 time  \\\n",
       "updated      Jul 1, 2022 13:41:00 UTC   \n",
       "updatedISO  2022-07-01T13:41:00+00:00   \n",
       "updateduk    Jul 1, 2022 at 14:41 BST   \n",
       "USD                               NaN   \n",
       "GBP                               NaN   \n",
       "\n",
       "                                                   disclaimer chartName  \\\n",
       "updated     This data was produced from the CoinDesk Bitco...   Bitcoin   \n",
       "updatedISO  This data was produced from the CoinDesk Bitco...   Bitcoin   \n",
       "updateduk   This data was produced from the CoinDesk Bitco...   Bitcoin   \n",
       "USD         This data was produced from the CoinDesk Bitco...   Bitcoin   \n",
       "GBP         This data was produced from the CoinDesk Bitco...   Bitcoin   \n",
       "\n",
       "                                                          bpi  \n",
       "updated                                                   NaN  \n",
       "updatedISO                                                NaN  \n",
       "updateduk                                                 NaN  \n",
       "USD         {'code': 'USD', 'symbol': '&#36;', 'rate': '19...  \n",
       "GBP         {'code': 'GBP', 'symbol': '&pound;', 'rate': '...  "
      ]
     },
     "execution_count": 8,
     "metadata": {},
     "output_type": "execute_result"
    }
   ],
   "source": [
    "# Create a DataFrame directly from the output.\n",
    "bitcoin_df = pd.DataFrame(bitcoin_content)\n",
    "\n",
    "# View the DataFrame.\n",
    "bitcoin_df.head()"
   ]
  },
  {
   "cell_type": "code",
   "execution_count": 10,
   "id": "3c99c3de",
   "metadata": {},
   "outputs": [],
   "source": [
    "# Save the JSON file to .json.\n",
    "# Create a JSON file.\n",
    "bitcoin_json = json.dumps(bitcoin_content)\n",
    "\n",
    "\n",
    "with open('bitcoin_json.json', 'w') as f:\n",
    "    json.dump(bitcoin_content, f)\n",
    "    \n",
    "# Save as a CSV file without index.\n",
    "bitcoin_df.to_csv('bitcoin_csv.csv', index=False)"
   ]
  },
  {
   "cell_type": "markdown",
   "id": "f0eadcac",
   "metadata": {},
   "source": [
    "# "
   ]
  },
  {
   "cell_type": "markdown",
   "id": "81343a90",
   "metadata": {},
   "source": [
    "##  USA population data"
   ]
  },
  {
   "cell_type": "code",
   "execution_count": 11,
   "id": "ada91110",
   "metadata": {},
   "outputs": [],
   "source": [
    "# Import the necessary libraries.\n",
    "import requests\n",
    "import json\n",
    "import pandas as pd"
   ]
  },
  {
   "cell_type": "code",
   "execution_count": 12,
   "id": "2159ad9c",
   "metadata": {},
   "outputs": [
    {
     "name": "stdout",
     "output_type": "stream",
     "text": [
      "200\n",
      "{'data': [{'ID Nation': '01000US', 'Nation': 'United States', 'ID Year': 2019, 'Year': '2019', 'Population': 328239523, 'Slug Nation': 'united-states'}, {'ID Nation': '01000US', 'Nation': 'United States', 'ID Year': 2018, 'Year': '2018', 'Population': 327167439, 'Slug Nation': 'united-states'}, {'ID Nation': '01000US', 'Nation': 'United States', 'ID Year': 2017, 'Year': '2017', 'Population': 325719178, 'Slug Nation': 'united-states'}, {'ID Nation': '01000US', 'Nation': 'United States', 'ID Year': 2016, 'Year': '2016', 'Population': 323127515, 'Slug Nation': 'united-states'}, {'ID Nation': '01000US', 'Nation': 'United States', 'ID Year': 2015, 'Year': '2015', 'Population': 321418821, 'Slug Nation': 'united-states'}, {'ID Nation': '01000US', 'Nation': 'United States', 'ID Year': 2014, 'Year': '2014', 'Population': 318857056, 'Slug Nation': 'united-states'}, {'ID Nation': '01000US', 'Nation': 'United States', 'ID Year': 2013, 'Year': '2013', 'Population': 316128839, 'Slug Nation': 'united-states'}], 'source': [{'measures': ['Population'], 'annotations': {'source_name': 'Census Bureau', 'source_description': 'The American Community Survey (ACS) is conducted by the US Census and sent to a portion of the population every year.', 'dataset_name': 'ACS 1-year Estimate', 'dataset_link': 'http://www.census.gov/programs-surveys/acs/', 'table_id': 'B01003', 'topic': 'Diversity', 'subtopic': 'Demographics'}, 'name': 'acs_yg_total_population_1', 'substitutions': []}]}\n"
     ]
    }
   ],
   "source": [
    "# Create a requests variable.\n",
    "pop = requests.get('https://datausa.io/api/data?drilldowns=Nation&measures=Population')\n",
    "   \n",
    "# Print the status_code.\n",
    "print(pop.status_code)\n",
    "\n",
    "# Print the JSON response.\n",
    "print(pop.json())"
   ]
  },
  {
   "cell_type": "code",
   "execution_count": 13,
   "id": "b4f5be32",
   "metadata": {},
   "outputs": [
    {
     "data": {
      "text/plain": [
       "{'Date': 'Fri, 01 Jul 2022 14:11:25 GMT', 'Content-Type': 'application/json; charset=utf-8', 'Transfer-Encoding': 'chunked', 'Connection': 'keep-alive', 'x-dns-prefetch-control': 'off', 'strict-transport-security': 'max-age=15552000; includeSubDomains', 'x-download-options': 'noopen', 'x-content-type-options': 'nosniff', 'x-xss-protection': '1; mode=block', 'content-language': 'en', 'etag': 'W/\"55b-jEIUyvQphH/gM3DVlQl2pEdoLeo\"', 'vary': 'Accept-Encoding', 'last-modified': 'Mon, 02 May 2022 17:25:47 GMT', 'x-cache-status': 'HIT', 'x-frame-options': 'SAMEORIGIN', 'access-control-allow-origin': '*', 'access-control-allow-credentials': 'true', 'access-control-allow-methods': 'GET, POST, OPTIONS', 'access-control-allow-headers': 'DNT,X-CustomHeader,Keep-Alive,User-Agent,X-Requested-With,If-Modified-Since,Cache-Control,Content-Type', 'x-cache-key': 'GET/api/data?drilldowns=Nation&measures=Population', 'Cache-Control': 'max-age=1800', 'CF-Cache-Status': 'HIT', 'Age': '62442', 'Expect-CT': 'max-age=604800, report-uri=\"https://report-uri.cloudflare.com/cdn-cgi/beacon/expect-ct\"', 'Report-To': '{\"endpoints\":[{\"url\":\"https:\\\\/\\\\/a.nel.cloudflare.com\\\\/report\\\\/v3?s=NUJAFItQT2DQTNjNQfUC2H3uM4FOmRQ34a8soaX52a1jXpOQNGnBTv6UA687dTNWIOPH5YwWO%2FPTV0wpq0zIJMjJN0emYVq6iEO5aJqddL%2BqLeq3Ap%2FB47JPTi0Tzo36e6oKpaD%2F1IM%3D\"}],\"group\":\"cf-nel\",\"max_age\":604800}', 'NEL': '{\"success_fraction\":0,\"report_to\":\"cf-nel\",\"max_age\":604800}', 'Server': 'cloudflare', 'CF-RAY': '723fbb1749f4fd6a-ATH', 'Content-Encoding': 'br'}"
      ]
     },
     "execution_count": 13,
     "metadata": {},
     "output_type": "execute_result"
    }
   ],
   "source": [
    "# Retrieve headers.\n",
    "pop.headers"
   ]
  },
  {
   "cell_type": "code",
   "execution_count": 14,
   "id": "5ad2f5b4",
   "metadata": {},
   "outputs": [
    {
     "name": "stdout",
     "output_type": "stream",
     "text": [
      "<class 'dict'>\n",
      "{'data': [{'ID Nation': '01000US', 'Nation': 'United States', 'ID Year': 2019, 'Year': '2019', 'Population': 328239523, 'Slug Nation': 'united-states'}, {'ID Nation': '01000US', 'Nation': 'United States', 'ID Year': 2018, 'Year': '2018', 'Population': 327167439, 'Slug Nation': 'united-states'}, {'ID Nation': '01000US', 'Nation': 'United States', 'ID Year': 2017, 'Year': '2017', 'Population': 325719178, 'Slug Nation': 'united-states'}, {'ID Nation': '01000US', 'Nation': 'United States', 'ID Year': 2016, 'Year': '2016', 'Population': 323127515, 'Slug Nation': 'united-states'}, {'ID Nation': '01000US', 'Nation': 'United States', 'ID Year': 2015, 'Year': '2015', 'Population': 321418821, 'Slug Nation': 'united-states'}, {'ID Nation': '01000US', 'Nation': 'United States', 'ID Year': 2014, 'Year': '2014', 'Population': 318857056, 'Slug Nation': 'united-states'}, {'ID Nation': '01000US', 'Nation': 'United States', 'ID Year': 2013, 'Year': '2013', 'Population': 316128839, 'Slug Nation': 'united-states'}], 'source': [{'measures': ['Population'], 'annotations': {'source_name': 'Census Bureau', 'source_description': 'The American Community Survey (ACS) is conducted by the US Census and sent to a portion of the population every year.', 'dataset_name': 'ACS 1-year Estimate', 'dataset_link': 'http://www.census.gov/programs-surveys/acs/', 'table_id': 'B01003', 'topic': 'Diversity', 'subtopic': 'Demographics'}, 'name': 'acs_yg_total_population_1', 'substitutions': []}]}\n"
     ]
    }
   ],
   "source": [
    "# Parse JSON data with loads().\n",
    "pop_content = json.loads(pop.text)\n",
    "\n",
    "# View the content.\n",
    "print(type(pop_content))\n",
    "print(pop_content)"
   ]
  },
  {
   "cell_type": "code",
   "execution_count": 15,
   "id": "e6fd5505",
   "metadata": {},
   "outputs": [
    {
     "name": "stdout",
     "output_type": "stream",
     "text": [
      "{\n",
      "    \"data\": [\n",
      "        {\n",
      "            \"ID Nation\": \"01000US\",\n",
      "            \"Nation\": \"United States\",\n",
      "            \"ID Year\": 2019,\n",
      "            \"Year\": \"2019\",\n",
      "            \"Population\": 328239523,\n",
      "            \"Slug Nation\": \"united-states\"\n",
      "        },\n",
      "        {\n",
      "            \"ID Nation\": \"01000US\",\n",
      "            \"Nation\": \"United States\",\n",
      "            \"ID Year\": 2018,\n",
      "            \"Year\": \"2018\",\n",
      "            \"Population\": 327167439,\n",
      "            \"Slug Nation\": \"united-states\"\n",
      "        },\n",
      "        {\n",
      "            \"ID Nation\": \"01000US\",\n",
      "            \"Nation\": \"United States\",\n",
      "            \"ID Year\": 2017,\n",
      "            \"Year\": \"2017\",\n",
      "            \"Population\": 325719178,\n",
      "            \"Slug Nation\": \"united-states\"\n",
      "        },\n",
      "        {\n",
      "            \"ID Nation\": \"01000US\",\n",
      "            \"Nation\": \"United States\",\n",
      "            \"ID Year\": 2016,\n",
      "            \"Year\": \"2016\",\n",
      "            \"Population\": 323127515,\n",
      "            \"Slug Nation\": \"united-states\"\n",
      "        },\n",
      "        {\n",
      "            \"ID Nation\": \"01000US\",\n",
      "            \"Nation\": \"United States\",\n",
      "            \"ID Year\": 2015,\n",
      "            \"Year\": \"2015\",\n",
      "            \"Population\": 321418821,\n",
      "            \"Slug Nation\": \"united-states\"\n",
      "        },\n",
      "        {\n",
      "            \"ID Nation\": \"01000US\",\n",
      "            \"Nation\": \"United States\",\n",
      "            \"ID Year\": 2014,\n",
      "            \"Year\": \"2014\",\n",
      "            \"Population\": 318857056,\n",
      "            \"Slug Nation\": \"united-states\"\n",
      "        },\n",
      "        {\n",
      "            \"ID Nation\": \"01000US\",\n",
      "            \"Nation\": \"United States\",\n",
      "            \"ID Year\": 2013,\n",
      "            \"Year\": \"2013\",\n",
      "            \"Population\": 316128839,\n",
      "            \"Slug Nation\": \"united-states\"\n",
      "        }\n",
      "    ],\n",
      "    \"source\": [\n",
      "        {\n",
      "            \"measures\": [\n",
      "                \"Population\"\n",
      "            ],\n",
      "            \"annotations\": {\n",
      "                \"source_name\": \"Census Bureau\",\n",
      "                \"source_description\": \"The American Community Survey (ACS) is conducted by the US Census and sent to a portion of the population every year.\",\n",
      "                \"dataset_name\": \"ACS 1-year Estimate\",\n",
      "                \"dataset_link\": \"http://www.census.gov/programs-surveys/acs/\",\n",
      "                \"table_id\": \"B01003\",\n",
      "                \"topic\": \"Diversity\",\n",
      "                \"subtopic\": \"Demographics\"\n",
      "            },\n",
      "            \"name\": \"acs_yg_total_population_1\",\n",
      "            \"substitutions\": []\n",
      "        }\n",
      "    ]\n",
      "}\n"
     ]
    }
   ],
   "source": [
    "# Formatting JSON.\n",
    "print(json.dumps(pop_content, indent=4))"
   ]
  },
  {
   "cell_type": "code",
   "execution_count": null,
   "id": "954b0a12",
   "metadata": {},
   "outputs": [],
   "source": []
  }
 ],
 "metadata": {
  "kernelspec": {
   "display_name": "Python 3 (ipykernel)",
   "language": "python",
   "name": "python3"
  },
  "language_info": {
   "codemirror_mode": {
    "name": "ipython",
    "version": 3
   },
   "file_extension": ".py",
   "mimetype": "text/x-python",
   "name": "python",
   "nbconvert_exporter": "python",
   "pygments_lexer": "ipython3",
   "version": "3.9.7"
  }
 },
 "nbformat": 4,
 "nbformat_minor": 5
}
